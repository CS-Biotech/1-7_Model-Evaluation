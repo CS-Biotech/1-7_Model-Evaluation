{
 "cells": [
  {
   "attachments": {},
   "cell_type": "markdown",
   "metadata": {},
   "source": [
    "# Week 7: Model Evaluation 🔍\n",
    "# Additional Exercises\n",
    "\n",
    "This notebook builds on Week 6's Additional Exercises. If you haven't already, you should complete the model training in that week first before continuing this exercise. In this notebook, you will apply the metrics you learned about to evaluate the model you trained in Week 6's Additional Exercises. Below, we have imported the necessary modules/packages and split the data in the same way as in Week 6. Run the code below for setup."
   ]
  },
  {
   "cell_type": "code",
   "execution_count": null,
   "metadata": {},
   "outputs": [],
   "source": [
    "# SETUP CODE - DO NOT MODIFY\n",
    "import pandas as pd\n",
    "import numpy as np\n",
    "from sklearn.preprocessing import StandardScaler\n",
    "from sklearn.model_selection import train_test_split\n",
    "\n",
    "df = pd.read_csv(\"./Heart Failure Clinical Records.csv\")\n",
    "\n",
    "target = df[\"DEATH_EVENT\"]\n",
    "\n",
    "# Removing time due to target leakage\n",
    "predictors = df.drop(['DEATH_EVENT', 'time'], axis = 1)\n",
    "\n",
    "# Split the dataset into training and testing.\n",
    "train_inputs, test_inputs, train_targets, test_targets = train_test_split(predictors, target, test_size = 0.20, shuffle = True, random_state=7)\n",
    "\n",
    "# Scaling the features\n",
    "sc = StandardScaler()\n",
    "train_scaled = sc.fit_transform(train_inputs.astype(float, 64))\n",
    "test_scaled = sc.transform(test_inputs.astype(float, 64))\n",
    "test_scaled = pd.DataFrame(test_scaled, columns=train_inputs.columns)\n",
    "train_scaled = pd.DataFrame(train_scaled, columns=test_inputs.columns)\n",
    "\n",
    "# to keep naming consistent (can use either variable)\n",
    "train_inputs = train_scaled\n",
    "test_inputs = test_scaled"
   ]
  },
  {
   "cell_type": "markdown",
   "metadata": {},
   "source": [
    "At this point, you need to load your own trained heart failure model from the Week 6 Additional Exercise. If you haven't done so already, go into Week 6 and save that model, then return to this notebook when you are done. If you have already saved the model in that module, copy the .pkl file into the Week 7 folder (same folder that this notebook is in).\n",
    "\n",
    "Once your model file is in this folder, complete the code below to load it. Refer to the pre-module in Week 6 on how to do this using ```pickle```."
   ]
  },
  {
   "cell_type": "markdown",
   "metadata": {},
   "source": [
    "<span style=\"background-color: #FFD700\">**Complete the code cell below**</span>"
   ]
  },
  {
   "cell_type": "code",
   "execution_count": null,
   "metadata": {},
   "outputs": [],
   "source": [
    "import pickle\n",
    "\n",
    "# Load the trained week 6 model\n"
   ]
  },
  {
   "cell_type": "markdown",
   "metadata": {},
   "source": [
    "**Complete the code in the markdown cell below, much like in week 7's tutorial, to generate the metrics.** Try to do this without copying everything directly from the tutorial notebook!\n",
    "\n",
    "Some tips:\n",
    "1. Before you start writing code, think about what you need to obtain as the end result and work backwards to identify what intermediate stages you need. \n",
    "2. Write comments in the code as you develop, to keep track of your process.\n",
    "3. Look up functions/explanations on the sci-kit learn documentation: https://scikit-learn.org/stable/modules/classes.html \n",
    "    * Note: There are many functions on the website. It may be useful to search for a specific one by using ctrl+F/cmd+F or using the search bar. \n",
    "4. Look up what functions/procedures could help you achieve what you need on Google, Stack Overflow, etc. See Week 1 Additional Exercises for reference. "
   ]
  },
  {
   "cell_type": "code",
   "execution_count": null,
   "metadata": {},
   "outputs": [],
   "source": [
    "# import sklearn metrics\n",
    "from sklearn.metrics import accuracy_score, precision_score, recall_score, f1_score, confusion_matrix, ConfusionMatrixDisplay\n",
    "\n",
    "# get model predictions\n",
    "# Prediction\n",
    "preds = model.predict(test_inputs)\n",
    "\n",
    "\n",
    "acc = accuracy_score(test_targets, preds)\n",
    "precision = precision_score(test_targets, preds)\n",
    "recall = recall_score(test_targets, preds)\n",
    "f1 = f1_score(test_targets, preds)\n",
    "conf = confusion_matrix(test_targets, preds)\n",
    "\n",
    "labels = np.where(model.classes_, 'death', 'no death')\n",
    "display = ConfusionMatrixDisplay(confusion_matrix=conf,\n",
    "                                display_labels=labels)\n",
    "\n",
    "eval = pd.Series({\n",
    "    \"Accuracy\": acc,\n",
    "    \"Precision\": precision,\n",
    "    \"Recall\": recall,\n",
    "    \"F1-Score\": f1\n",
    "})\n",
    "\n",
    "print(f\"Heart Failure Classifier: LogisticRegression\")\n",
    "print(f\"\\nEvaluation metrics:\\n\",eval)\n",
    "\n",
    "display.plot()"
   ]
  },
  {
   "cell_type": "markdown",
   "metadata": {},
   "source": [
    "### Discussion\n",
    "\n",
    "**Based on the results you obtained above, answer the following questions.**\n",
    "\n",
    "**Q1. Is the dataset imbalanced?**\n",
    "\n",
    "<span style=\"background-color: #FFD700\">**Write your answer below**</span>\n"
   ]
  },
  {
   "cell_type": "markdown",
   "metadata": {},
   "source": [
    "---"
   ]
  },
  {
   "cell_type": "markdown",
   "metadata": {},
   "source": [
    "**Q2. Which metrics would you say are most important for evaluating this particular model? Explain your reasoning.**\n",
    "\n",
    "<span style=\"background-color: #FFD700\">**Write your answer below**</span>\n",
    "\n"
   ]
  },
  {
   "cell_type": "markdown",
   "metadata": {},
   "source": [
    "---"
   ]
  },
  {
   "cell_type": "markdown",
   "metadata": {},
   "source": [
    "**Q3. Is there any underfitting/overfitting? How can you tell?**\n",
    "\n",
    "<span style=\"background-color: #FFD700\">**Write your answer below**</span>\n",
    "\n"
   ]
  },
  {
   "cell_type": "markdown",
   "metadata": {},
   "source": [
    "---"
   ]
  },
  {
   "cell_type": "markdown",
   "metadata": {},
   "source": [
    "**Q4. Would you say the model generalizes well? Why or why not?**\n",
    "\n",
    "<span style=\"background-color: #FFD700\">**Write your answer below**</span>\n"
   ]
  },
  {
   "cell_type": "markdown",
   "metadata": {},
   "source": [
    "---"
   ]
  },
  {
   "cell_type": "markdown",
   "metadata": {},
   "source": [
    "**Q5. If there are any signs of poor performance (underfitting/overfitting/low accuracy/low precision, etc.), list some things you would try to improve for each issue.**\n",
    "\n",
    "<span style=\"background-color: #FFD700\">**Write your answer below**</span>"
   ]
  },
  {
   "cell_type": "markdown",
   "metadata": {},
   "source": [
    "---"
   ]
  },
  {
   "cell_type": "markdown",
   "metadata": {},
   "source": [
    "## Conclusion\n",
    "\n",
    "This concludes the practice exercises using the heart failure dataset. Congratulations! From the additional exercises in weeks 6 and 7, you have implemented a machine learning pipeline yourself to train and evaluate a heart failure death prediction model. You have learned how to use the sci-kit learn library to implement this pipeline, seen some common pitfalls along the way, and learned how to interpret the results.\n",
    "\n",
    "This is only the beginning of your exploration in machine learning! You will discover much more as you continue your learning journey, including different models, training techniques, evaluation methods, data cleaning techniques, and more. You will see a brief review of different models next week to hopefully spark your interest in this vast and ever-growing field."
   ]
  },
  {
   "cell_type": "code",
   "execution_count": null,
   "metadata": {},
   "outputs": [],
   "source": []
  }
 ],
 "metadata": {
  "kernelspec": {
   "display_name": "Python 3 (ipykernel)",
   "language": "python",
   "name": "python3"
  },
  "language_info": {
   "codemirror_mode": {
    "name": "ipython",
    "version": 3
   },
   "file_extension": ".py",
   "mimetype": "text/x-python",
   "name": "python",
   "nbconvert_exporter": "python",
   "pygments_lexer": "ipython3",
   "version": "3.11.6"
  }
 },
 "nbformat": 4,
 "nbformat_minor": 4
}
